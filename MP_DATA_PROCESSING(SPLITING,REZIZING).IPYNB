{
 "cells": [
  {
   "cell_type": "code",
   "execution_count": 1,
   "metadata": {},
   "outputs": [
    {
     "name": "stdout",
     "output_type": "stream",
     "text": [
      "YASHH\n"
     ]
    }
   ],
   "source": [
    "print(\"YASHH\")"
   ]
  },
  {
   "cell_type": "code",
   "execution_count": 3,
   "metadata": {},
   "outputs": [
    {
     "name": "stdout",
     "output_type": "stream",
     "text": [
      "CWD is  d:\\collage stuff\\3rd year\\5th sem\\mp\\code\n"
     ]
    }
   ],
   "source": [
    "#ref - https://stackoverflow.com/questions/14463277/how-to-disable-python-warnings\n",
    "\n",
    "# Basic Libs..\n",
    "import multiprocessing\n",
    "from multiprocessing.pool import ThreadPool\n",
    "import warnings\n",
    "warnings.filterwarnings(\"ignore\")\n",
    "import pandas as pd\n",
    "import numpy as np\n",
    "from tqdm import tqdm,tqdm_notebook\n",
    "from prettytable import PrettyTable\n",
    "import pickle\n",
    "import os\n",
    "print('CWD is ',os.getcwd())\n",
    "\n",
    "# Vis Libs..\n",
    "from sklearn.manifold import TSNE\n",
    "import seaborn as sns\n",
    "import matplotlib.pyplot as plt\n",
    "%matplotlib inline\n",
    "plt.rcParams[\"axes.grid\"] = False\n",
    "\n",
    "# Image Libs.\n",
    "from PIL import Image\n",
    "import cv2\n",
    "\n",
    "# sklearn libs..\n",
    "from sklearn.model_selection import train_test_split\n",
    "\n",
    "# DL Libs..\n",
    "import keras\n",
    "import tensorflow\n",
    "from tensorflow.keras.utils import img_to_array\n",
    "from keras import applications\n",
    "#from keras.preprocessing.image import ImageDataGenerator,array_to_img,load_img\n",
    "from keras import optimizers,Model,Sequential\n",
    "from keras.layers import Input,GlobalAveragePooling2D,Dropout,Dense,Activation\n",
    "from keras.callbacks import EarlyStopping,ReduceLROnPlateau"
   ]
  },
  {
   "cell_type": "markdown",
   "metadata": {},
   "source": [
    "<font color='blue'>Train Validation Split</font> </a>"
   ]
  },
  {
   "cell_type": "code",
   "execution_count": 4,
   "metadata": {},
   "outputs": [],
   "source": [
    "def load_data():\n",
    "    train = pd.read_csv('train.csv')\n",
    "    test = pd.read_csv('test.csv')\n",
    "\n",
    "    train_dir = os.path.join('./','train_images/')\n",
    "    test_dir = os.path.join('./','test_images/')\n",
    "    \n",
    "    train['file_path'] = train['id_code'].map(lambda x: os.path.join(train_dir,'{}.png'.format(x)))\n",
    "    test['file_path'] = test['id_code'].map(lambda x: os.path.join(test_dir,'{}.png'.format(x)))\n",
    "    \n",
    "    train['file_name'] = train[\"id_code\"].apply(lambda x: x + \".png\")\n",
    "    test['file_name'] = test[\"id_code\"].apply(lambda x: x + \".png\")\n",
    "    \n",
    "    train['diagnosis'] = train['diagnosis'].astype(str)\n",
    "    \n",
    "    return train,test"
   ]
  },
  {
   "cell_type": "code",
   "execution_count": 15,
   "metadata": {},
   "outputs": [
    {
     "name": "stdout",
     "output_type": "stream",
     "text": [
      "(3662, 4) (1928, 3) \n",
      "\n"
     ]
    },
    {
     "data": {
      "text/html": [
       "<div>\n",
       "<style scoped>\n",
       "    .dataframe tbody tr th:only-of-type {\n",
       "        vertical-align: middle;\n",
       "    }\n",
       "\n",
       "    .dataframe tbody tr th {\n",
       "        vertical-align: top;\n",
       "    }\n",
       "\n",
       "    .dataframe thead th {\n",
       "        text-align: right;\n",
       "    }\n",
       "</style>\n",
       "<table border=\"1\" class=\"dataframe\">\n",
       "  <thead>\n",
       "    <tr style=\"text-align: right;\">\n",
       "      <th></th>\n",
       "      <th>id_code</th>\n",
       "      <th>diagnosis</th>\n",
       "      <th>file_path</th>\n",
       "      <th>file_name</th>\n",
       "    </tr>\n",
       "  </thead>\n",
       "  <tbody>\n",
       "    <tr>\n",
       "      <th>0</th>\n",
       "      <td>000c1434d8d7</td>\n",
       "      <td>2</td>\n",
       "      <td>./train_images/000c1434d8d7.png</td>\n",
       "      <td>000c1434d8d7.png</td>\n",
       "    </tr>\n",
       "    <tr>\n",
       "      <th>1</th>\n",
       "      <td>001639a390f0</td>\n",
       "      <td>4</td>\n",
       "      <td>./train_images/001639a390f0.png</td>\n",
       "      <td>001639a390f0.png</td>\n",
       "    </tr>\n",
       "    <tr>\n",
       "      <th>2</th>\n",
       "      <td>0024cdab0c1e</td>\n",
       "      <td>1</td>\n",
       "      <td>./train_images/0024cdab0c1e.png</td>\n",
       "      <td>0024cdab0c1e.png</td>\n",
       "    </tr>\n",
       "    <tr>\n",
       "      <th>3</th>\n",
       "      <td>002c21358ce6</td>\n",
       "      <td>0</td>\n",
       "      <td>./train_images/002c21358ce6.png</td>\n",
       "      <td>002c21358ce6.png</td>\n",
       "    </tr>\n",
       "    <tr>\n",
       "      <th>4</th>\n",
       "      <td>005b95c28852</td>\n",
       "      <td>0</td>\n",
       "      <td>./train_images/005b95c28852.png</td>\n",
       "      <td>005b95c28852.png</td>\n",
       "    </tr>\n",
       "    <tr>\n",
       "      <th>5</th>\n",
       "      <td>0083ee8054ee</td>\n",
       "      <td>4</td>\n",
       "      <td>./train_images/0083ee8054ee.png</td>\n",
       "      <td>0083ee8054ee.png</td>\n",
       "    </tr>\n",
       "    <tr>\n",
       "      <th>6</th>\n",
       "      <td>0097f532ac9f</td>\n",
       "      <td>0</td>\n",
       "      <td>./train_images/0097f532ac9f.png</td>\n",
       "      <td>0097f532ac9f.png</td>\n",
       "    </tr>\n",
       "    <tr>\n",
       "      <th>7</th>\n",
       "      <td>00a8624548a9</td>\n",
       "      <td>2</td>\n",
       "      <td>./train_images/00a8624548a9.png</td>\n",
       "      <td>00a8624548a9.png</td>\n",
       "    </tr>\n",
       "    <tr>\n",
       "      <th>8</th>\n",
       "      <td>00b74780d31d</td>\n",
       "      <td>2</td>\n",
       "      <td>./train_images/00b74780d31d.png</td>\n",
       "      <td>00b74780d31d.png</td>\n",
       "    </tr>\n",
       "    <tr>\n",
       "      <th>9</th>\n",
       "      <td>00cb6555d108</td>\n",
       "      <td>1</td>\n",
       "      <td>./train_images/00cb6555d108.png</td>\n",
       "      <td>00cb6555d108.png</td>\n",
       "    </tr>\n",
       "  </tbody>\n",
       "</table>\n",
       "</div>"
      ],
      "text/plain": [
       "        id_code diagnosis                        file_path         file_name\n",
       "0  000c1434d8d7         2  ./train_images/000c1434d8d7.png  000c1434d8d7.png\n",
       "1  001639a390f0         4  ./train_images/001639a390f0.png  001639a390f0.png\n",
       "2  0024cdab0c1e         1  ./train_images/0024cdab0c1e.png  0024cdab0c1e.png\n",
       "3  002c21358ce6         0  ./train_images/002c21358ce6.png  002c21358ce6.png\n",
       "4  005b95c28852         0  ./train_images/005b95c28852.png  005b95c28852.png\n",
       "5  0083ee8054ee         4  ./train_images/0083ee8054ee.png  0083ee8054ee.png\n",
       "6  0097f532ac9f         0  ./train_images/0097f532ac9f.png  0097f532ac9f.png\n",
       "7  00a8624548a9         2  ./train_images/00a8624548a9.png  00a8624548a9.png\n",
       "8  00b74780d31d         2  ./train_images/00b74780d31d.png  00b74780d31d.png\n",
       "9  00cb6555d108         1  ./train_images/00cb6555d108.png  00cb6555d108.png"
      ]
     },
     "execution_count": 15,
     "metadata": {},
     "output_type": "execute_result"
    }
   ],
   "source": [
    "df_train,df_test = load_data()\n",
    "print(df_train.shape,df_test.shape,'\\n')\n",
    "df_train.head(10)"
   ]
  },
  {
   "cell_type": "code",
   "execution_count": 16,
   "metadata": {},
   "outputs": [
    {
     "name": "stdout",
     "output_type": "stream",
     "text": [
      "(2929, 4) (733, 4)\n"
     ]
    }
   ],
   "source": [
    "df_train_train,df_train_valid = train_test_split(df_train,test_size = 0.2)\n",
    "print(df_train_train.shape,df_train_valid.shape)"
   ]
  },
  {
   "cell_type": "code",
   "execution_count": 17,
   "metadata": {},
   "outputs": [],
   "source": [
    "'''This Function Plots a Bar plot of output Classes Distribution'''\n",
    "\n",
    "def plot_classes(df,title):\n",
    "    df_group = pd.DataFrame(df.groupby('diagnosis').agg('size').reset_index())\n",
    "    df_group.columns = ['diagnosis','count']\n",
    "\n",
    "    sns.set(rc={'figure.figsize':(10,5)}, style = 'whitegrid')\n",
    "    sns.barplot(x = 'diagnosis',y='count',data = df_group,palette = \"Blues_d\")\n",
    "    plt.title('Output Class Distribution ' + str(title))\n",
    "    plt.show() "
   ]
  },
  {
   "cell_type": "code",
   "execution_count": 18,
   "metadata": {},
   "outputs": [
    {
     "data": {
      "image/png": "[encoded data removed]",
      "text/plain": [
       "<Figure size 720x360 with 1 Axes>"
      ]
     },
     "metadata": {},
     "output_type": "display_data"
    }
   ],
   "source": [
    "plot_classes(df_train_train,\"TRAIN DATA\")"
   ]
  },
  {
   "cell_type": "code",
   "execution_count": 19,
   "metadata": {},
   "outputs": [
    {
     "data": {
      "image/png": "[encoded data removed]",
      "text/plain": [
       "<Figure size 720x360 with 1 Axes>"
      ]
     },
     "metadata": {},
     "output_type": "display_data"
    }
   ],
   "source": [
    "plot_classes(df_train_valid,'VALIDATION DATA  ')"
   ]
  },
  {
   "cell_type": "code",
   "execution_count": 23,
   "metadata": {},
   "outputs": [],
   "source": [
    "\n",
    "file = open('df_train_train', 'wb')\n",
    "pickle.dump(df_train_train, file)\n",
    "file.close()\n",
    "\n",
    "file = open('df_train_test', 'wb')\n",
    "pickle.dump(df_train_valid, file)\n",
    "file.close()"
   ]
  },
  {
   "cell_type": "code",
   "execution_count": 24,
   "metadata": {},
   "outputs": [],
   "source": [
    "file = open('df_train_train', 'rb')\n",
    "df_train_train = pickle.load(file)\n",
    "file.close()\n",
    "\n",
    "file = open('df_train_test', 'rb')\n",
    "df_train_test = pickle.load(file)\n",
    "file.close()"
   ]
  },
  {
   "cell_type": "code",
   "execution_count": null,
   "metadata": {},
   "outputs": [],
   "source": [
    "print(df_train_train.shape,df_train_valid.shape)\n",
    "print(len(os.listdir('./train_images_resized_preprocessed')),len(os.listdir('./test_images_resized_preprocessed')))"
   ]
  },
  {
   "cell_type": "markdown",
   "metadata": {},
   "source": [
    "#   <font color='blue'> Resize and Save</font> </a>"
   ]
  },
  {
   "cell_type": "code",
   "execution_count": 27,
   "metadata": {},
   "outputs": [],
   "source": [
    "IMG_SIZE  = 512"
   ]
  },
  {
   "cell_type": "code",
   "execution_count": 28,
   "metadata": {},
   "outputs": [],
   "source": [
    "'''Function loads an image from Folder , Resizes and saves in another directory '''\n",
    "\n",
    "def image_resize_save(file):\n",
    "    input_filepath = os.path.join('./','train_images','{}.png'.format(file))\n",
    "    output_filepath = os.path.join('./','valid_images_resized','{}.png'.format(file))\n",
    "    img = cv2.imread(input_filepath)\n",
    "    cv2.imwrite(output_filepath, cv2.resize(img, (IMG_SIZE,IMG_SIZE)))\n",
    "#image_resize_save(df_train.id_code.iloc[201])"
   ]
  },
  {
   "cell_type": "code",
   "execution_count": 29,
   "metadata": {},
   "outputs": [],
   "source": [
    "'''This Function uses Multi processing for faster saving of images into folder'''\n",
    "\n",
    "def multiprocess_image_downloader(process:int, imgs:list):\n",
    "    \"\"\"\n",
    "    Inputs:\n",
    "        process: (int) number of process to run\n",
    "        imgs:(list) list of images\n",
    "    \"\"\"\n",
    "    print(f'MESSAGE: Running {process} process')\n",
    "    results = ThreadPool(process).map(image_resize_save, imgs)\n",
    "    return results"
   ]
  },
  {
   "cell_type": "code",
   "execution_count": 30,
   "metadata": {},
   "outputs": [
    {
     "name": "stdout",
     "output_type": "stream",
     "text": [
      "MESSAGE: Running 6 process\n"
     ]
    },
    {
     "ename": "error",
     "evalue": "OpenCV(4.6.0) D:\\a\\opencv-python\\opencv-python\\opencv\\modules\\imgproc\\src\\resize.cpp:4052: error: (-215:Assertion failed) !ssize.empty() in function 'cv::resize'\n",
     "output_type": "error",
     "traceback": [
      "\u001b[1;31m---------------------------------------------------------------------------\u001b[0m",
      "\u001b[1;31merror\u001b[0m                                     Traceback (most recent call last)",
      "\u001b[1;32md:\\collage stuff\\3rd year\\5th sem\\mp\\code\\MP_DATA_PROCESSING(SPLITING,REZIZING).IPYNB Cell 17\u001b[0m in \u001b[0;36m<cell line: 2>\u001b[1;34m()\u001b[0m\n\u001b[0;32m      <a href='vscode-notebook-cell:/d%3A/collage%20stuff/3rd%20year/5th%20sem/mp/code/MP_DATA_PROCESSING%28SPLITING%2CREZIZING%29.IPYNB#X22sZmlsZQ%3D%3D?line=0'>1</a>\u001b[0m \u001b[39m# Use 6 cores\u001b[39;00m\n\u001b[1;32m----> <a href='vscode-notebook-cell:/d%3A/collage%20stuff/3rd%20year/5th%20sem/mp/code/MP_DATA_PROCESSING%28SPLITING%2CREZIZING%29.IPYNB#X22sZmlsZQ%3D%3D?line=1'>2</a>\u001b[0m multiprocess_image_downloader(\u001b[39m6\u001b[39;49m, \u001b[39mlist\u001b[39;49m(df_train_valid\u001b[39m.\u001b[39;49mid_code\u001b[39m.\u001b[39;49mvalues))\n",
      "\u001b[1;32md:\\collage stuff\\3rd year\\5th sem\\mp\\code\\MP_DATA_PROCESSING(SPLITING,REZIZING).IPYNB Cell 17\u001b[0m in \u001b[0;36mmultiprocess_image_downloader\u001b[1;34m(process, imgs)\u001b[0m\n\u001b[0;32m      <a href='vscode-notebook-cell:/d%3A/collage%20stuff/3rd%20year/5th%20sem/mp/code/MP_DATA_PROCESSING%28SPLITING%2CREZIZING%29.IPYNB#X22sZmlsZQ%3D%3D?line=3'>4</a>\u001b[0m \u001b[39m\"\"\"\u001b[39;00m\n\u001b[0;32m      <a href='vscode-notebook-cell:/d%3A/collage%20stuff/3rd%20year/5th%20sem/mp/code/MP_DATA_PROCESSING%28SPLITING%2CREZIZING%29.IPYNB#X22sZmlsZQ%3D%3D?line=4'>5</a>\u001b[0m \u001b[39mInputs:\u001b[39;00m\n\u001b[0;32m      <a href='vscode-notebook-cell:/d%3A/collage%20stuff/3rd%20year/5th%20sem/mp/code/MP_DATA_PROCESSING%28SPLITING%2CREZIZING%29.IPYNB#X22sZmlsZQ%3D%3D?line=5'>6</a>\u001b[0m \u001b[39m    process: (int) number of process to run\u001b[39;00m\n\u001b[0;32m      <a href='vscode-notebook-cell:/d%3A/collage%20stuff/3rd%20year/5th%20sem/mp/code/MP_DATA_PROCESSING%28SPLITING%2CREZIZING%29.IPYNB#X22sZmlsZQ%3D%3D?line=6'>7</a>\u001b[0m \u001b[39m    imgs:(list) list of images\u001b[39;00m\n\u001b[0;32m      <a href='vscode-notebook-cell:/d%3A/collage%20stuff/3rd%20year/5th%20sem/mp/code/MP_DATA_PROCESSING%28SPLITING%2CREZIZING%29.IPYNB#X22sZmlsZQ%3D%3D?line=7'>8</a>\u001b[0m \u001b[39m\"\"\"\u001b[39;00m\n\u001b[0;32m      <a href='vscode-notebook-cell:/d%3A/collage%20stuff/3rd%20year/5th%20sem/mp/code/MP_DATA_PROCESSING%28SPLITING%2CREZIZING%29.IPYNB#X22sZmlsZQ%3D%3D?line=8'>9</a>\u001b[0m \u001b[39mprint\u001b[39m(\u001b[39mf\u001b[39m\u001b[39m'\u001b[39m\u001b[39mMESSAGE: Running \u001b[39m\u001b[39m{\u001b[39;00mprocess\u001b[39m}\u001b[39;00m\u001b[39m process\u001b[39m\u001b[39m'\u001b[39m)\n\u001b[1;32m---> <a href='vscode-notebook-cell:/d%3A/collage%20stuff/3rd%20year/5th%20sem/mp/code/MP_DATA_PROCESSING%28SPLITING%2CREZIZING%29.IPYNB#X22sZmlsZQ%3D%3D?line=9'>10</a>\u001b[0m results \u001b[39m=\u001b[39m ThreadPool(process)\u001b[39m.\u001b[39;49mmap(image_resize_save, imgs)\n\u001b[0;32m     <a href='vscode-notebook-cell:/d%3A/collage%20stuff/3rd%20year/5th%20sem/mp/code/MP_DATA_PROCESSING%28SPLITING%2CREZIZING%29.IPYNB#X22sZmlsZQ%3D%3D?line=10'>11</a>\u001b[0m \u001b[39mreturn\u001b[39;00m results\n",
      "File \u001b[1;32mc:\\Users\\wankh\\AppData\\Local\\Programs\\Python\\Python310\\lib\\multiprocessing\\pool.py:364\u001b[0m, in \u001b[0;36mPool.map\u001b[1;34m(self, func, iterable, chunksize)\u001b[0m\n\u001b[0;32m    359\u001b[0m \u001b[39mdef\u001b[39;00m \u001b[39mmap\u001b[39m(\u001b[39mself\u001b[39m, func, iterable, chunksize\u001b[39m=\u001b[39m\u001b[39mNone\u001b[39;00m):\n\u001b[0;32m    360\u001b[0m     \u001b[39m'''\u001b[39;00m\n\u001b[0;32m    361\u001b[0m \u001b[39m    Apply `func` to each element in `iterable`, collecting the results\u001b[39;00m\n\u001b[0;32m    362\u001b[0m \u001b[39m    in a list that is returned.\u001b[39;00m\n\u001b[0;32m    363\u001b[0m \u001b[39m    '''\u001b[39;00m\n\u001b[1;32m--> 364\u001b[0m     \u001b[39mreturn\u001b[39;00m \u001b[39mself\u001b[39;49m\u001b[39m.\u001b[39;49m_map_async(func, iterable, mapstar, chunksize)\u001b[39m.\u001b[39;49mget()\n",
      "File \u001b[1;32mc:\\Users\\wankh\\AppData\\Local\\Programs\\Python\\Python310\\lib\\multiprocessing\\pool.py:771\u001b[0m, in \u001b[0;36mApplyResult.get\u001b[1;34m(self, timeout)\u001b[0m\n\u001b[0;32m    769\u001b[0m     \u001b[39mreturn\u001b[39;00m \u001b[39mself\u001b[39m\u001b[39m.\u001b[39m_value\n\u001b[0;32m    770\u001b[0m \u001b[39melse\u001b[39;00m:\n\u001b[1;32m--> 771\u001b[0m     \u001b[39mraise\u001b[39;00m \u001b[39mself\u001b[39m\u001b[39m.\u001b[39m_value\n",
      "File \u001b[1;32mc:\\Users\\wankh\\AppData\\Local\\Programs\\Python\\Python310\\lib\\multiprocessing\\pool.py:125\u001b[0m, in \u001b[0;36mworker\u001b[1;34m(inqueue, outqueue, initializer, initargs, maxtasks, wrap_exception)\u001b[0m\n\u001b[0;32m    123\u001b[0m job, i, func, args, kwds \u001b[39m=\u001b[39m task\n\u001b[0;32m    124\u001b[0m \u001b[39mtry\u001b[39;00m:\n\u001b[1;32m--> 125\u001b[0m     result \u001b[39m=\u001b[39m (\u001b[39mTrue\u001b[39;00m, func(\u001b[39m*\u001b[39margs, \u001b[39m*\u001b[39m\u001b[39m*\u001b[39mkwds))\n\u001b[0;32m    126\u001b[0m \u001b[39mexcept\u001b[39;00m \u001b[39mException\u001b[39;00m \u001b[39mas\u001b[39;00m e:\n\u001b[0;32m    127\u001b[0m     \u001b[39mif\u001b[39;00m wrap_exception \u001b[39mand\u001b[39;00m func \u001b[39mis\u001b[39;00m \u001b[39mnot\u001b[39;00m _helper_reraises_exception:\n",
      "File \u001b[1;32mc:\\Users\\wankh\\AppData\\Local\\Programs\\Python\\Python310\\lib\\multiprocessing\\pool.py:48\u001b[0m, in \u001b[0;36mmapstar\u001b[1;34m(args)\u001b[0m\n\u001b[0;32m     47\u001b[0m \u001b[39mdef\u001b[39;00m \u001b[39mmapstar\u001b[39m(args):\n\u001b[1;32m---> 48\u001b[0m     \u001b[39mreturn\u001b[39;00m \u001b[39mlist\u001b[39;49m(\u001b[39mmap\u001b[39;49m(\u001b[39m*\u001b[39;49margs))\n",
      "\u001b[1;32md:\\collage stuff\\3rd year\\5th sem\\mp\\code\\MP_DATA_PROCESSING(SPLITING,REZIZING).IPYNB Cell 17\u001b[0m in \u001b[0;36mimage_resize_save\u001b[1;34m(file)\u001b[0m\n\u001b[0;32m      <a href='vscode-notebook-cell:/d%3A/collage%20stuff/3rd%20year/5th%20sem/mp/code/MP_DATA_PROCESSING%28SPLITING%2CREZIZING%29.IPYNB#X22sZmlsZQ%3D%3D?line=4'>5</a>\u001b[0m output_filepath \u001b[39m=\u001b[39m os\u001b[39m.\u001b[39mpath\u001b[39m.\u001b[39mjoin(\u001b[39m'\u001b[39m\u001b[39m./\u001b[39m\u001b[39m'\u001b[39m,\u001b[39m'\u001b[39m\u001b[39mvalid_images_resized\u001b[39m\u001b[39m'\u001b[39m,\u001b[39m'\u001b[39m\u001b[39m{}\u001b[39;00m\u001b[39m.png\u001b[39m\u001b[39m'\u001b[39m\u001b[39m.\u001b[39mformat(file))\n\u001b[0;32m      <a href='vscode-notebook-cell:/d%3A/collage%20stuff/3rd%20year/5th%20sem/mp/code/MP_DATA_PROCESSING%28SPLITING%2CREZIZING%29.IPYNB#X22sZmlsZQ%3D%3D?line=5'>6</a>\u001b[0m img \u001b[39m=\u001b[39m cv2\u001b[39m.\u001b[39mimread(input_filepath)\n\u001b[1;32m----> <a href='vscode-notebook-cell:/d%3A/collage%20stuff/3rd%20year/5th%20sem/mp/code/MP_DATA_PROCESSING%28SPLITING%2CREZIZING%29.IPYNB#X22sZmlsZQ%3D%3D?line=6'>7</a>\u001b[0m cv2\u001b[39m.\u001b[39mimwrite(output_filepath, cv2\u001b[39m.\u001b[39;49mresize(img, (IMG_SIZE,IMG_SIZE)))\n",
      "\u001b[1;31merror\u001b[0m: OpenCV(4.6.0) D:\\a\\opencv-python\\opencv-python\\opencv\\modules\\imgproc\\src\\resize.cpp:4052: error: (-215:Assertion failed) !ssize.empty() in function 'cv::resize'\n"
     ]
    }
   ],
   "source": [
    "# Use 6 cores\n",
    "multiprocess_image_downloader(6, list(df_train_valid.id_code.values))"
   ]
  },
  {
   "cell_type": "markdown",
   "metadata": {},
   "source": [
    "Using Multiprocessing (6 cores), we managed to resize and save images within 10 minutes, and reducing IMG_SIZE to 512, thereby reducing disk-space from 10 GB (earlier) to 1 GB (after resizing). We shall load data into colab and start training models"
   ]
  },
  {
   "cell_type": "markdown",
   "metadata": {},
   "source": [
    "#   <font color='blue'>Image Pre Processing and save</font> </a>"
   ]
  },
  {
   "cell_type": "code",
   "execution_count": 31,
   "metadata": {},
   "outputs": [],
   "source": [
    "def crop_image_from_gray(img,tol=7):\n",
    "    if img.ndim ==2:\n",
    "        mask = img>tol\n",
    "        return img[np.ix_(mask.any(1),mask.any(0))]\n",
    "    elif img.ndim==3:\n",
    "        gray_img = cv2.cvtColor(img, cv2.COLOR_RGB2GRAY)\n",
    "        mask = gray_img>tol\n",
    "        \n",
    "        check_shape = img[:,:,0][np.ix_(mask.any(1),mask.any(0))].shape[0]\n",
    "        if (check_shape == 0): # image is too dark so that we crop out everything,\n",
    "            return img # return original image\n",
    "        else:\n",
    "            img1=img[:,:,0][np.ix_(mask.any(1),mask.any(0))]\n",
    "            img2=img[:,:,1][np.ix_(mask.any(1),mask.any(0))]\n",
    "            img3=img[:,:,2][np.ix_(mask.any(1),mask.any(0))]\n",
    "    #         print(img1.shape,img2.shape,img3.shape)\n",
    "            img = np.stack([img1,img2,img3],axis=-1)\n",
    "    #         print(img.shape)\n",
    "        return img\n",
    "\n",
    "def circle_crop(img, sigmaX = 30):   \n",
    "    \"\"\"\n",
    "    Create circular crop around image centre    \n",
    "    \"\"\"    \n",
    "    img = crop_image_from_gray(img)    \n",
    "    img = cv2.cvtColor(img, cv2.COLOR_BGR2RGB)\n",
    "    \n",
    "    height, width, depth = img.shape    \n",
    "    \n",
    "    x = int(width/2)\n",
    "    y = int(height/2)\n",
    "    r = np.amin((x,y))\n",
    "    \n",
    "    circle_img = np.zeros((height, width), np.uint8)\n",
    "    cv2.circle(circle_img, (x,y), int(r), 1, thickness=-1)\n",
    "    img = cv2.bitwise_and(img, img, mask=circle_img)\n",
    "    img = crop_image_from_gray(img)\n",
    "    img=cv2.addWeighted(img,4, cv2.GaussianBlur( img , (0,0) , sigmaX) ,-4 ,128)\n",
    "    return img \n",
    "\n",
    "def preprocess_image(file):\n",
    "    input_filepath = os.path.join('./','test_images_resized','{}.png'.format(file))\n",
    "    output_filepath = os.path.join('./','test_images_resized_preprocessed','{}.png'.format(file))\n",
    "    \n",
    "    img = cv2.imread(input_filepath)\n",
    "    img = circle_crop(img) \n",
    "    cv2.imwrite(output_filepath, cv2.resize(img, (IMG_SIZE,IMG_SIZE)))"
   ]
  },
  {
   "cell_type": "code",
   "execution_count": 32,
   "metadata": {},
   "outputs": [],
   "source": [
    "'''This Function uses Multi processing for faster saving of images into folder'''\n",
    "\n",
    "def multiprocess_image_processor(process:int, imgs:list):\n",
    "    \"\"\"\n",
    "    Inputs:\n",
    "        process: (int) number of process to run\n",
    "        imgs:(list) list of images\n",
    "    \"\"\"\n",
    "    print(f'MESSAGE: Running {process} process')\n",
    "    results = ThreadPool(process).map(preprocess_image, imgs)\n",
    "    return results"
   ]
  },
  {
   "cell_type": "code",
   "execution_count": 33,
   "metadata": {},
   "outputs": [
    {
     "name": "stdout",
     "output_type": "stream",
     "text": [
      "MESSAGE: Running 6 process\n"
     ]
    },
    {
     "ename": "AttributeError",
     "evalue": "'NoneType' object has no attribute 'ndim'",
     "output_type": "error",
     "traceback": [
      "\u001b[1;31m---------------------------------------------------------------------------\u001b[0m",
      "\u001b[1;31mAttributeError\u001b[0m                            Traceback (most recent call last)",
      "\u001b[1;32md:\\collage stuff\\3rd year\\5th sem\\mp\\code\\MP_DATA_PROCESSING(SPLITING,REZIZING).IPYNB Cell 22\u001b[0m in \u001b[0;36m<cell line: 2>\u001b[1;34m()\u001b[0m\n\u001b[0;32m      <a href='vscode-notebook-cell:/d%3A/collage%20stuff/3rd%20year/5th%20sem/mp/code/MP_DATA_PROCESSING%28SPLITING%2CREZIZING%29.IPYNB#X30sZmlsZQ%3D%3D?line=0'>1</a>\u001b[0m \u001b[39m# Use 6 cores\u001b[39;00m\n\u001b[1;32m----> <a href='vscode-notebook-cell:/d%3A/collage%20stuff/3rd%20year/5th%20sem/mp/code/MP_DATA_PROCESSING%28SPLITING%2CREZIZING%29.IPYNB#X30sZmlsZQ%3D%3D?line=1'>2</a>\u001b[0m multiprocess_image_processor(\u001b[39m6\u001b[39;49m, \u001b[39mlist\u001b[39;49m(df_train_test\u001b[39m.\u001b[39;49mid_code\u001b[39m.\u001b[39;49mvalues))\n",
      "\u001b[1;32md:\\collage stuff\\3rd year\\5th sem\\mp\\code\\MP_DATA_PROCESSING(SPLITING,REZIZING).IPYNB Cell 22\u001b[0m in \u001b[0;36mmultiprocess_image_processor\u001b[1;34m(process, imgs)\u001b[0m\n\u001b[0;32m      <a href='vscode-notebook-cell:/d%3A/collage%20stuff/3rd%20year/5th%20sem/mp/code/MP_DATA_PROCESSING%28SPLITING%2CREZIZING%29.IPYNB#X30sZmlsZQ%3D%3D?line=3'>4</a>\u001b[0m \u001b[39m\"\"\"\u001b[39;00m\n\u001b[0;32m      <a href='vscode-notebook-cell:/d%3A/collage%20stuff/3rd%20year/5th%20sem/mp/code/MP_DATA_PROCESSING%28SPLITING%2CREZIZING%29.IPYNB#X30sZmlsZQ%3D%3D?line=4'>5</a>\u001b[0m \u001b[39mInputs:\u001b[39;00m\n\u001b[0;32m      <a href='vscode-notebook-cell:/d%3A/collage%20stuff/3rd%20year/5th%20sem/mp/code/MP_DATA_PROCESSING%28SPLITING%2CREZIZING%29.IPYNB#X30sZmlsZQ%3D%3D?line=5'>6</a>\u001b[0m \u001b[39m    process: (int) number of process to run\u001b[39;00m\n\u001b[0;32m      <a href='vscode-notebook-cell:/d%3A/collage%20stuff/3rd%20year/5th%20sem/mp/code/MP_DATA_PROCESSING%28SPLITING%2CREZIZING%29.IPYNB#X30sZmlsZQ%3D%3D?line=6'>7</a>\u001b[0m \u001b[39m    imgs:(list) list of images\u001b[39;00m\n\u001b[0;32m      <a href='vscode-notebook-cell:/d%3A/collage%20stuff/3rd%20year/5th%20sem/mp/code/MP_DATA_PROCESSING%28SPLITING%2CREZIZING%29.IPYNB#X30sZmlsZQ%3D%3D?line=7'>8</a>\u001b[0m \u001b[39m\"\"\"\u001b[39;00m\n\u001b[0;32m      <a href='vscode-notebook-cell:/d%3A/collage%20stuff/3rd%20year/5th%20sem/mp/code/MP_DATA_PROCESSING%28SPLITING%2CREZIZING%29.IPYNB#X30sZmlsZQ%3D%3D?line=8'>9</a>\u001b[0m \u001b[39mprint\u001b[39m(\u001b[39mf\u001b[39m\u001b[39m'\u001b[39m\u001b[39mMESSAGE: Running \u001b[39m\u001b[39m{\u001b[39;00mprocess\u001b[39m}\u001b[39;00m\u001b[39m process\u001b[39m\u001b[39m'\u001b[39m)\n\u001b[1;32m---> <a href='vscode-notebook-cell:/d%3A/collage%20stuff/3rd%20year/5th%20sem/mp/code/MP_DATA_PROCESSING%28SPLITING%2CREZIZING%29.IPYNB#X30sZmlsZQ%3D%3D?line=9'>10</a>\u001b[0m results \u001b[39m=\u001b[39m ThreadPool(process)\u001b[39m.\u001b[39;49mmap(preprocess_image, imgs)\n\u001b[0;32m     <a href='vscode-notebook-cell:/d%3A/collage%20stuff/3rd%20year/5th%20sem/mp/code/MP_DATA_PROCESSING%28SPLITING%2CREZIZING%29.IPYNB#X30sZmlsZQ%3D%3D?line=10'>11</a>\u001b[0m \u001b[39mreturn\u001b[39;00m results\n",
      "File \u001b[1;32mc:\\Users\\wankh\\AppData\\Local\\Programs\\Python\\Python310\\lib\\multiprocessing\\pool.py:364\u001b[0m, in \u001b[0;36mPool.map\u001b[1;34m(self, func, iterable, chunksize)\u001b[0m\n\u001b[0;32m    359\u001b[0m \u001b[39mdef\u001b[39;00m \u001b[39mmap\u001b[39m(\u001b[39mself\u001b[39m, func, iterable, chunksize\u001b[39m=\u001b[39m\u001b[39mNone\u001b[39;00m):\n\u001b[0;32m    360\u001b[0m     \u001b[39m'''\u001b[39;00m\n\u001b[0;32m    361\u001b[0m \u001b[39m    Apply `func` to each element in `iterable`, collecting the results\u001b[39;00m\n\u001b[0;32m    362\u001b[0m \u001b[39m    in a list that is returned.\u001b[39;00m\n\u001b[0;32m    363\u001b[0m \u001b[39m    '''\u001b[39;00m\n\u001b[1;32m--> 364\u001b[0m     \u001b[39mreturn\u001b[39;00m \u001b[39mself\u001b[39;49m\u001b[39m.\u001b[39;49m_map_async(func, iterable, mapstar, chunksize)\u001b[39m.\u001b[39;49mget()\n",
      "File \u001b[1;32mc:\\Users\\wankh\\AppData\\Local\\Programs\\Python\\Python310\\lib\\multiprocessing\\pool.py:771\u001b[0m, in \u001b[0;36mApplyResult.get\u001b[1;34m(self, timeout)\u001b[0m\n\u001b[0;32m    769\u001b[0m     \u001b[39mreturn\u001b[39;00m \u001b[39mself\u001b[39m\u001b[39m.\u001b[39m_value\n\u001b[0;32m    770\u001b[0m \u001b[39melse\u001b[39;00m:\n\u001b[1;32m--> 771\u001b[0m     \u001b[39mraise\u001b[39;00m \u001b[39mself\u001b[39m\u001b[39m.\u001b[39m_value\n",
      "File \u001b[1;32mc:\\Users\\wankh\\AppData\\Local\\Programs\\Python\\Python310\\lib\\multiprocessing\\pool.py:125\u001b[0m, in \u001b[0;36mworker\u001b[1;34m(inqueue, outqueue, initializer, initargs, maxtasks, wrap_exception)\u001b[0m\n\u001b[0;32m    123\u001b[0m job, i, func, args, kwds \u001b[39m=\u001b[39m task\n\u001b[0;32m    124\u001b[0m \u001b[39mtry\u001b[39;00m:\n\u001b[1;32m--> 125\u001b[0m     result \u001b[39m=\u001b[39m (\u001b[39mTrue\u001b[39;00m, func(\u001b[39m*\u001b[39margs, \u001b[39m*\u001b[39m\u001b[39m*\u001b[39mkwds))\n\u001b[0;32m    126\u001b[0m \u001b[39mexcept\u001b[39;00m \u001b[39mException\u001b[39;00m \u001b[39mas\u001b[39;00m e:\n\u001b[0;32m    127\u001b[0m     \u001b[39mif\u001b[39;00m wrap_exception \u001b[39mand\u001b[39;00m func \u001b[39mis\u001b[39;00m \u001b[39mnot\u001b[39;00m _helper_reraises_exception:\n",
      "File \u001b[1;32mc:\\Users\\wankh\\AppData\\Local\\Programs\\Python\\Python310\\lib\\multiprocessing\\pool.py:48\u001b[0m, in \u001b[0;36mmapstar\u001b[1;34m(args)\u001b[0m\n\u001b[0;32m     47\u001b[0m \u001b[39mdef\u001b[39;00m \u001b[39mmapstar\u001b[39m(args):\n\u001b[1;32m---> 48\u001b[0m     \u001b[39mreturn\u001b[39;00m \u001b[39mlist\u001b[39;49m(\u001b[39mmap\u001b[39;49m(\u001b[39m*\u001b[39;49margs))\n",
      "\u001b[1;32md:\\collage stuff\\3rd year\\5th sem\\mp\\code\\MP_DATA_PROCESSING(SPLITING,REZIZING).IPYNB Cell 22\u001b[0m in \u001b[0;36mpreprocess_image\u001b[1;34m(file)\u001b[0m\n\u001b[0;32m     <a href='vscode-notebook-cell:/d%3A/collage%20stuff/3rd%20year/5th%20sem/mp/code/MP_DATA_PROCESSING%28SPLITING%2CREZIZING%29.IPYNB#X30sZmlsZQ%3D%3D?line=42'>43</a>\u001b[0m output_filepath \u001b[39m=\u001b[39m os\u001b[39m.\u001b[39mpath\u001b[39m.\u001b[39mjoin(\u001b[39m'\u001b[39m\u001b[39m./\u001b[39m\u001b[39m'\u001b[39m,\u001b[39m'\u001b[39m\u001b[39mtest_images_resized_preprocessed\u001b[39m\u001b[39m'\u001b[39m,\u001b[39m'\u001b[39m\u001b[39m{}\u001b[39;00m\u001b[39m.png\u001b[39m\u001b[39m'\u001b[39m\u001b[39m.\u001b[39mformat(file))\n\u001b[0;32m     <a href='vscode-notebook-cell:/d%3A/collage%20stuff/3rd%20year/5th%20sem/mp/code/MP_DATA_PROCESSING%28SPLITING%2CREZIZING%29.IPYNB#X30sZmlsZQ%3D%3D?line=44'>45</a>\u001b[0m img \u001b[39m=\u001b[39m cv2\u001b[39m.\u001b[39mimread(input_filepath)\n\u001b[1;32m---> <a href='vscode-notebook-cell:/d%3A/collage%20stuff/3rd%20year/5th%20sem/mp/code/MP_DATA_PROCESSING%28SPLITING%2CREZIZING%29.IPYNB#X30sZmlsZQ%3D%3D?line=45'>46</a>\u001b[0m img \u001b[39m=\u001b[39m circle_crop(img) \n\u001b[0;32m     <a href='vscode-notebook-cell:/d%3A/collage%20stuff/3rd%20year/5th%20sem/mp/code/MP_DATA_PROCESSING%28SPLITING%2CREZIZING%29.IPYNB#X30sZmlsZQ%3D%3D?line=46'>47</a>\u001b[0m cv2\u001b[39m.\u001b[39mimwrite(output_filepath, cv2\u001b[39m.\u001b[39mresize(img, (IMG_SIZE,IMG_SIZE)))\n",
      "\u001b[1;32md:\\collage stuff\\3rd year\\5th sem\\mp\\code\\MP_DATA_PROCESSING(SPLITING,REZIZING).IPYNB Cell 22\u001b[0m in \u001b[0;36mcircle_crop\u001b[1;34m(img, sigmaX)\u001b[0m\n\u001b[0;32m     <a href='vscode-notebook-cell:/d%3A/collage%20stuff/3rd%20year/5th%20sem/mp/code/MP_DATA_PROCESSING%28SPLITING%2CREZIZING%29.IPYNB#X30sZmlsZQ%3D%3D?line=20'>21</a>\u001b[0m \u001b[39mdef\u001b[39;00m \u001b[39mcircle_crop\u001b[39m(img, sigmaX \u001b[39m=\u001b[39m \u001b[39m30\u001b[39m):   \n\u001b[0;32m     <a href='vscode-notebook-cell:/d%3A/collage%20stuff/3rd%20year/5th%20sem/mp/code/MP_DATA_PROCESSING%28SPLITING%2CREZIZING%29.IPYNB#X30sZmlsZQ%3D%3D?line=21'>22</a>\u001b[0m     \u001b[39m\"\"\"\u001b[39;00m\n\u001b[0;32m     <a href='vscode-notebook-cell:/d%3A/collage%20stuff/3rd%20year/5th%20sem/mp/code/MP_DATA_PROCESSING%28SPLITING%2CREZIZING%29.IPYNB#X30sZmlsZQ%3D%3D?line=22'>23</a>\u001b[0m \u001b[39m    Create circular crop around image centre    \u001b[39;00m\n\u001b[0;32m     <a href='vscode-notebook-cell:/d%3A/collage%20stuff/3rd%20year/5th%20sem/mp/code/MP_DATA_PROCESSING%28SPLITING%2CREZIZING%29.IPYNB#X30sZmlsZQ%3D%3D?line=23'>24</a>\u001b[0m \u001b[39m    \"\"\"\u001b[39;00m    \n\u001b[1;32m---> <a href='vscode-notebook-cell:/d%3A/collage%20stuff/3rd%20year/5th%20sem/mp/code/MP_DATA_PROCESSING%28SPLITING%2CREZIZING%29.IPYNB#X30sZmlsZQ%3D%3D?line=24'>25</a>\u001b[0m     img \u001b[39m=\u001b[39m crop_image_from_gray(img)    \n\u001b[0;32m     <a href='vscode-notebook-cell:/d%3A/collage%20stuff/3rd%20year/5th%20sem/mp/code/MP_DATA_PROCESSING%28SPLITING%2CREZIZING%29.IPYNB#X30sZmlsZQ%3D%3D?line=25'>26</a>\u001b[0m     img \u001b[39m=\u001b[39m cv2\u001b[39m.\u001b[39mcvtColor(img, cv2\u001b[39m.\u001b[39mCOLOR_BGR2RGB)\n\u001b[0;32m     <a href='vscode-notebook-cell:/d%3A/collage%20stuff/3rd%20year/5th%20sem/mp/code/MP_DATA_PROCESSING%28SPLITING%2CREZIZING%29.IPYNB#X30sZmlsZQ%3D%3D?line=27'>28</a>\u001b[0m     height, width, depth \u001b[39m=\u001b[39m img\u001b[39m.\u001b[39mshape    \n",
      "\u001b[1;32md:\\collage stuff\\3rd year\\5th sem\\mp\\code\\MP_DATA_PROCESSING(SPLITING,REZIZING).IPYNB Cell 22\u001b[0m in \u001b[0;36mcrop_image_from_gray\u001b[1;34m(img, tol)\u001b[0m\n\u001b[0;32m      <a href='vscode-notebook-cell:/d%3A/collage%20stuff/3rd%20year/5th%20sem/mp/code/MP_DATA_PROCESSING%28SPLITING%2CREZIZING%29.IPYNB#X30sZmlsZQ%3D%3D?line=0'>1</a>\u001b[0m \u001b[39mdef\u001b[39;00m \u001b[39mcrop_image_from_gray\u001b[39m(img,tol\u001b[39m=\u001b[39m\u001b[39m7\u001b[39m):\n\u001b[1;32m----> <a href='vscode-notebook-cell:/d%3A/collage%20stuff/3rd%20year/5th%20sem/mp/code/MP_DATA_PROCESSING%28SPLITING%2CREZIZING%29.IPYNB#X30sZmlsZQ%3D%3D?line=1'>2</a>\u001b[0m     \u001b[39mif\u001b[39;00m img\u001b[39m.\u001b[39;49mndim \u001b[39m==\u001b[39m\u001b[39m2\u001b[39m:\n\u001b[0;32m      <a href='vscode-notebook-cell:/d%3A/collage%20stuff/3rd%20year/5th%20sem/mp/code/MP_DATA_PROCESSING%28SPLITING%2CREZIZING%29.IPYNB#X30sZmlsZQ%3D%3D?line=2'>3</a>\u001b[0m         mask \u001b[39m=\u001b[39m img\u001b[39m>\u001b[39mtol\n\u001b[0;32m      <a href='vscode-notebook-cell:/d%3A/collage%20stuff/3rd%20year/5th%20sem/mp/code/MP_DATA_PROCESSING%28SPLITING%2CREZIZING%29.IPYNB#X30sZmlsZQ%3D%3D?line=3'>4</a>\u001b[0m         \u001b[39mreturn\u001b[39;00m img[np\u001b[39m.\u001b[39mix_(mask\u001b[39m.\u001b[39many(\u001b[39m1\u001b[39m),mask\u001b[39m.\u001b[39many(\u001b[39m0\u001b[39m))]\n",
      "\u001b[1;31mAttributeError\u001b[0m: 'NoneType' object has no attribute 'ndim'"
     ]
    }
   ],
   "source": [
    "# Use 6 cores\n",
    "multiprocess_image_processor(6, list(df_train_test.id_code.values))"
   ]
  }
 ],
 "metadata": {
  "kernelspec": {
   "display_name": "Python 3.10.1 64-bit",
   "language": "python",
   "name": "python3"
  },
  "language_info": {
   "codemirror_mode": {
    "name": "ipython",
    "version": 3
   },
   "file_extension": ".py",
   "mimetype": "text/x-python",
   "name": "python",
   "nbconvert_exporter": "python",
   "pygments_lexer": "ipython3",
   "version": "3.10.1"
  },
  "orig_nbformat": 4,
  "vscode": {
   "interpreter": {
    "hash": "55d49fecefe3b92b8ba0417419433a36f5aafc021d415e0b37ba26fdd89a450a"
   }
  }
 },
 "nbformat": 4,
 "nbformat_minor": 2
}
